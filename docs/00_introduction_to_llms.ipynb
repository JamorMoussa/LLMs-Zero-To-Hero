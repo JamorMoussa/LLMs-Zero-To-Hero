{
  "cells": [
    {
      "cell_type": "markdown",
      "metadata": {
        "id": "yoiE0WBtF7wI"
      },
      "source": [
        "# 00. Introduction to LLMs"
      ]
    },
    {
      "cell_type": "code",
      "execution_count": null,
      "metadata": {
        "id": "qLc_tnPfFq4d"
      },
      "outputs": [],
      "source": []
    }
  ],
  "metadata": {
    "colab": {
      "provenance": []
    },
    "kernelspec": {
      "display_name": "Python 3",
      "name": "python3"
    },
    "language_info": {
      "name": "python"
    }
  },
  "nbformat": 4,
  "nbformat_minor": 0
}
