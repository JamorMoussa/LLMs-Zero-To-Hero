{
  "nbformat": 4,
  "nbformat_minor": 0,
  "metadata": {
    "colab": {
      "provenance": []
    },
    "kernelspec": {
      "name": "python3",
      "display_name": "Python 3"
    },
    "language_info": {
      "name": "python"
    }
  },
  "cells": [
    {
      "cell_type": "markdown",
      "source": [
        "# 01. Building Blocks of LLMs: Tokenizers & Transformer Architecture"
      ],
      "metadata": {
        "id": "ZMnfhjduE8vX"
      }
    },
    {
      "cell_type": "code",
      "execution_count": null,
      "metadata": {
        "id": "JhWzi1bcEvWb"
      },
      "outputs": [],
      "source": []
    }
  ]
}