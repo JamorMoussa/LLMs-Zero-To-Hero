{
  "nbformat": 4,
  "nbformat_minor": 0,
  "metadata": {
    "colab": {
      "provenance": []
    },
    "kernelspec": {
      "name": "python3",
      "display_name": "Python 3"
    },
    "language_info": {
      "name": "python"
    }
  },
  "cells": [
    {
      "cell_type": "markdown",
      "source": [
        "# 01. Building Blocks of LLMs: Tokenizers & Transformer Architecture"
      ],
      "metadata": {
        "id": "ZMnfhjduE8vX"
      }
    },
    {
      "cell_type": "markdown",
      "source": [
        "In this chapter, we're going to cover:\n",
        "\n",
        "- The building blocks of language modeling, from concepts like tokenization and token embeddings to constructing the entire Transformer architecture from scratch.\n",
        "\n",
        "- Discovering the Hugging Face APIs for tokenization, text generation, and more with some pre-trained LLMs out there, such as GPT-2 and LLaMA.\n",
        "\n",
        "> **Mini-Project**:\n",
        ">\n",
        "> Train a custom tokenizer (Hugging Face API compatible) for Moroccan Darija. We'll use the DODa dataset [https://github.com/darija-open-dataset/dataset](https://github.com/darija-open-dataset/dataset). The tokenizer should support both English and Moroccan Darija."
      ],
      "metadata": {
        "id": "TUPyimRULP_h"
      }
    },
    {
      "cell_type": "markdown",
      "source": [
        "## 1.1 Introduction To Tokenization"
      ],
      "metadata": {
        "id": "jXnqAx7NPMbG"
      }
    },
    {
      "cell_type": "markdown",
      "source": [
        "### 1.1.1 What's Tokenization?"
      ],
      "metadata": {
        "id": "tjWSeKDnb4Kv"
      }
    },
    {
      "cell_type": "markdown",
      "source": [
        "**What's tokenization and what is it used for?**  \n",
        "\n",
        "Well, how can we feed text into language models? LLMs are essentially large neural networks (commonly Transformer-based) that can only process numbers. So, we need a process that converts strings into numbers. The answer is **Tokenization**, which is the process of splitting raw text into small units called **tokens**. These tokens are then mapped to **IDs**, and all available tokens along with their **IDs** form a **Vocabulary**.  \n",
        "\n",
        "<img src=\"https://raw.githubusercontent.com/JamorMoussa/LLMs-Zero-To-Hero/refs/heads/main/assets/01/tokenizer.png\"/>\n",
        "\n",
        "\n"
      ],
      "metadata": {
        "id": "pfEHASh2Ppwz"
      }
    },
    {
      "cell_type": "markdown",
      "source": [
        "There are three main types of tokenizers used in 🤗 Hugging Face Transformers: **Byte-Pair Encoding (BPE)**, **WordPiece**, and **SentencePiece**, which we will cover in the following sections."
      ],
      "metadata": {
        "id": "3xufFiwWXhOv"
      }
    },
    {
      "cell_type": "markdown",
      "source": [
        "### 1.1.2 Challenges"
      ],
      "metadata": {
        "id": "SdWyDLrpcaE0"
      }
    },
    {
      "cell_type": "markdown",
      "source": [
        "**Tokenizers** are trained on huge datasets to determine efficient splitting. This is a crucial step—**Andrej Karpathy** mentioned that bad tokenization can lead to significant issues for LLMs.  \n",
        "\n",
        "> Tokenization is at the heart of much weirdness of LLMs. Do not brush it off.  \n",
        ">   \n",
        "> - Why can't LLM spell words? Tokenization.  \n",
        "> - Why can't LLM do super simple string processing tasks like reversing a string? Tokenization.  \n",
        "> - Why is LLM worse at non-English languages (e.g., Japanese)? Tokenization.  \n",
        "> - Why is LLM bad at simple arithmetic? Tokenization.  \n",
        "> - Why did GPT-2 have more than necessary trouble coding in Python? Tokenization.  "
      ],
      "metadata": {
        "id": "vx5-XYqCcYf5"
      }
    },
    {
      "cell_type": "markdown",
      "source": [
        "🚧 **Tokenization is not as easy as it seems!**  \n",
        "\n",
        "While **character tokenization** is very simple and results in a minimal vocabulary, it makes it harder for the model to learn meaningful input representations.  \n",
        "\n",
        "📚 On the other hand, **word tokenization** (i.e., splitting text by words) leads to a very large vocabulary size, 📈 increasing computational complexity due to the embedding matrix becoming too large.  \n",
        "\n",
        "✨ To get the best of both worlds, Transformer models use a hybrid approach between word-level and character-level tokenization called **subword tokenization**.  \n",
        "\n",
        "💡 **Subword tokenization** allows models to have a resonable volcabulary size, while being able to learn text representation."
      ],
      "metadata": {
        "id": "Xmyka_Sjcgmp"
      }
    },
    {
      "cell_type": "markdown",
      "source": [
        "### 1.1.3 Subword Tokenization  \n",
        "\n",
        "**TODO**: Refer to [tokenizer summary 🤗](https://huggingface.co/docs/transformers/en/tokenizer_summary) and write a section covering the **BPE**, **WordPiece**, and **SentencePiece** techniques.  :\n"
      ],
      "metadata": {
        "id": "hu_IEEbvH4ee"
      }
    },
    {
      "cell_type": "markdown",
      "source": [
        "## 1.2 Hugging Face Tokenizer API"
      ],
      "metadata": {
        "id": "V8BEV5KxMUlq"
      }
    },
    {
      "cell_type": "code",
      "source": [
        "from transformers import AutoModelForCausalLM, AutoTokenizer\n",
        "import torch\n",
        "\n",
        "from pprint import pprint as print"
      ],
      "metadata": {
        "id": "xWE9n8mhQOac"
      },
      "execution_count": 6,
      "outputs": []
    },
    {
      "cell_type": "code",
      "source": [
        "tokenizer = AutoTokenizer.from_pretrained(\"gpt2\")"
      ],
      "metadata": {
        "colab": {
          "base_uri": "https://localhost:8080/",
          "height": 304,
          "referenced_widgets": [
            "a3e403273f4a4859b1685062d23f9bdd",
            "75678d10483642e98094fb57cd999475",
            "871114e886fe42d2934f760d13f3f795",
            "37669522c6e14dbc9b7948c05a0dd659",
            "baec628adc1744479af6b9dcf5e213b2",
            "792ddf1cf8e243f5ae38218537b03859",
            "51edf2171ed14bc5a336483e7941b119",
            "4deae1ddb95648c1a17cd115100d1278",
            "9289baa2fb7b494186030166f7179053",
            "b169c44fe7ad45a4abdf35e0976865a4",
            "2685c66613344ae48a47690d84c702c1",
            "a5947ae2c68f44c1a8d549482f0c16dd",
            "0d12c9ae10674031b567221887fe15fa",
            "792fb0813f2f48d09405a6f1bc0f6ccd",
            "d47ac615c4cf4c65b1044be40194e7ae",
            "0cddb842cf474f5bafb5320b214408c2",
            "09529a43ec884fea91c0b91756fa8dbc",
            "7ea8264188a94648b33082b8665175cf",
            "d56ff2c998ba48a3a33581c33eae9405",
            "fc01d45f51114e0d928b852b3ae0e01a",
            "b5f392eba5954b29b6576fc39fff0a4e",
            "100ba9a4e69b42f6ab6f45a7b56bfaef",
            "b621673f62934bd58f13219e17562c53",
            "81063d1d32604c30872c8f66de11bc64",
            "bccb60374dea45db9e00f1c3a944db69",
            "a5a840ac60ff4c969260a45470ad9b12",
            "43570e1b57394c98a8b21eefc56ce8b8",
            "991d1124bc2d4efe88e5a2b664e6b784",
            "699015f0fbbd4c58836615adabec4e82",
            "03519a2590414e9b9a257f8c083f8bdd",
            "64aa55d102fa470295b5b3b9be6a8a0e",
            "6d1e1b171ddd4790b5cb5102fef020c1",
            "e6bd3a64808c43b89bbb3f5c3f9fbfef",
            "e773f96e043f44de861039c410b4fe4e",
            "f0e64bffdde845a9bc077975d7bc8d23",
            "13762ae667b54dda83b23dacc925e889",
            "4effee5067904d1da9d1e1501a9b8f46",
            "0245bb0bea0d4c9aa0afcb10f17821e5",
            "1cb1a1bc54f74553aa6a58eca44c5bf1",
            "7e44206fbfac4549beb36bfd1f9633cb",
            "87e06604b01143fd833080d3b97017cd",
            "8ea941a2a94a49db8fa580492e78435e",
            "e350bf5cd63b40ca91af85bea7bf887a",
            "3a02ebcd8b32471788d4903a5275554b",
            "1c01c84dd0e04292ba6bf66756723e27",
            "f4ee6428aa3d4f4eb0709a08664fb5ee",
            "b12f8b3fc87745c0b6494a5ccea01684",
            "01b7427912344cda9e7ab633c38d69f7",
            "01a0a979bcb74301beac29da0dbbfb56",
            "452a958c1bb340769e06f817d10a5c37",
            "0f97afff28a14e2fb818e39b22590a56",
            "01f40f80fb7644b899c946bce9185a4b",
            "edd4e68ca32a4fc38e2faed39a1c8bb8",
            "6d5a2e87e3b544c194612388cd26e00f",
            "c5626d01d6654abdb858244e89ec27d8"
          ]
        },
        "id": "kYqsXqc2O1O_",
        "outputId": "cfef1024-dad6-4673-99e3-337282147267"
      },
      "execution_count": 2,
      "outputs": [
        {
          "output_type": "stream",
          "name": "stderr",
          "text": [
            "/usr/local/lib/python3.11/dist-packages/huggingface_hub/utils/_auth.py:94: UserWarning: \n",
            "The secret `HF_TOKEN` does not exist in your Colab secrets.\n",
            "To authenticate with the Hugging Face Hub, create a token in your settings tab (https://huggingface.co/settings/tokens), set it as secret in your Google Colab and restart your session.\n",
            "You will be able to reuse this secret in all of your notebooks.\n",
            "Please note that authentication is recommended but still optional to access public models or datasets.\n",
            "  warnings.warn(\n"
          ]
        },
        {
          "output_type": "display_data",
          "data": {
            "text/plain": [
              "tokenizer_config.json:   0%|          | 0.00/26.0 [00:00<?, ?B/s]"
            ],
            "application/vnd.jupyter.widget-view+json": {
              "version_major": 2,
              "version_minor": 0,
              "model_id": "a3e403273f4a4859b1685062d23f9bdd"
            }
          },
          "metadata": {}
        },
        {
          "output_type": "display_data",
          "data": {
            "text/plain": [
              "config.json:   0%|          | 0.00/665 [00:00<?, ?B/s]"
            ],
            "application/vnd.jupyter.widget-view+json": {
              "version_major": 2,
              "version_minor": 0,
              "model_id": "a5947ae2c68f44c1a8d549482f0c16dd"
            }
          },
          "metadata": {}
        },
        {
          "output_type": "display_data",
          "data": {
            "text/plain": [
              "vocab.json:   0%|          | 0.00/1.04M [00:00<?, ?B/s]"
            ],
            "application/vnd.jupyter.widget-view+json": {
              "version_major": 2,
              "version_minor": 0,
              "model_id": "b621673f62934bd58f13219e17562c53"
            }
          },
          "metadata": {}
        },
        {
          "output_type": "display_data",
          "data": {
            "text/plain": [
              "merges.txt:   0%|          | 0.00/456k [00:00<?, ?B/s]"
            ],
            "application/vnd.jupyter.widget-view+json": {
              "version_major": 2,
              "version_minor": 0,
              "model_id": "e773f96e043f44de861039c410b4fe4e"
            }
          },
          "metadata": {}
        },
        {
          "output_type": "display_data",
          "data": {
            "text/plain": [
              "tokenizer.json:   0%|          | 0.00/1.36M [00:00<?, ?B/s]"
            ],
            "application/vnd.jupyter.widget-view+json": {
              "version_major": 2,
              "version_minor": 0,
              "model_id": "1c01c84dd0e04292ba6bf66756723e27"
            }
          },
          "metadata": {}
        }
      ]
    },
    {
      "cell_type": "code",
      "source": [
        "text = \"Welcome to LLMs zero to Hero Course 🤗\"\n",
        "\n",
        "print(tokenizer(text= text)) # returns 'attenstion_mask' and 'input_ids' as list."
      ],
      "metadata": {
        "colab": {
          "base_uri": "https://localhost:8080/"
        },
        "id": "yk11cR1fPAgk",
        "outputId": "0c83b5f2-a3e4-4064-9e70-51fce1fc62aa"
      },
      "execution_count": 9,
      "outputs": [
        {
          "output_type": "stream",
          "name": "stdout",
          "text": [
            "{'attention_mask': [1, 1, 1, 1, 1, 1, 1, 1, 1, 1, 1],\n",
            " 'input_ids': [14618,\n",
            "               284,\n",
            "               27140,\n",
            "               10128,\n",
            "               6632,\n",
            "               284,\n",
            "               8757,\n",
            "               20537,\n",
            "               12520,\n",
            "               97,\n",
            "               245]}\n"
          ]
        }
      ]
    },
    {
      "cell_type": "code",
      "source": [
        "print(tokenizer(text= text, return_tensors= \"pt\")) # as Pytorch Tensor"
      ],
      "metadata": {
        "colab": {
          "base_uri": "https://localhost:8080/"
        },
        "id": "eVW_i1m1P__m",
        "outputId": "1f0d60d8-b291-4956-df8d-3075a45fbbbf"
      },
      "execution_count": 10,
      "outputs": [
        {
          "output_type": "stream",
          "name": "stdout",
          "text": [
            "{'attention_mask': tensor([[1, 1, 1, 1, 1, 1, 1, 1, 1, 1, 1]]),\n",
            " 'input_ids': tensor([[14618,   284, 27140, 10128,  6632,   284,  8757, 20537, 12520,    97,\n",
            "           245]])}\n"
          ]
        }
      ]
    },
    {
      "cell_type": "code",
      "source": [
        "sentences = [\n",
        "    \"Hello Everyone ✋\",\n",
        "    \"Welcome to LLMs Zero-to-Hero Course 🤗\"\n",
        "]\n",
        "\n",
        "print(tokenizer(text= sentences)) # batches of sentence"
      ],
      "metadata": {
        "colab": {
          "base_uri": "https://localhost:8080/"
        },
        "id": "SC4RQi2-Qut1",
        "outputId": "e3d70929-e6b4-46ec-9baf-b4ebd9d20e92"
      },
      "execution_count": 16,
      "outputs": [
        {
          "output_type": "stream",
          "name": "stdout",
          "text": [
            "{'attention_mask': [[1, 1, 1, 1], [1, 1, 1, 1, 1, 1, 1, 1, 1, 1, 1, 1, 1]],\n",
            " 'input_ids': [[15496, 11075, 14519, 233],\n",
            "               [14618,\n",
            "                284,\n",
            "                27140,\n",
            "                10128,\n",
            "                12169,\n",
            "                12,\n",
            "                1462,\n",
            "                12,\n",
            "                30411,\n",
            "                20537,\n",
            "                12520,\n",
            "                97,\n",
            "                245]]}\n"
          ]
        }
      ]
    },
    {
      "cell_type": "code",
      "source": [
        "print(tokenizer(text= sentences, return_tensors= \"pt\"))"
      ],
      "metadata": {
        "id": "GuUUwUxMRmo7"
      },
      "execution_count": null,
      "outputs": []
    },
    {
      "cell_type": "markdown",
      "source": [
        "<img src=\"https://raw.githubusercontent.com/JamorMoussa/LLMs-Zero-To-Hero/refs/heads/main/assets/01/return_tensor_error.png\"/>\n",
        "\n",
        "\n"
      ],
      "metadata": {
        "id": "zphI7mIrV1v1"
      }
    },
    {
      "cell_type": "code",
      "source": [],
      "metadata": {
        "id": "O0nmLvLCVe-O"
      },
      "execution_count": null,
      "outputs": []
    }
  ]
}
